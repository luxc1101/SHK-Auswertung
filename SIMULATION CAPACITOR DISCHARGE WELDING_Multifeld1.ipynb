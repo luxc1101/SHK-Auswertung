{
 "cells": [
  {
   "cell_type": "markdown",
   "metadata": {},
   "source": [
    "# SIMULATION CAPACITOR DISCHARGE WELDING - Multiphysik\n",
    "\n",
    ">ansys process\n",
    "- Working Directory\n",
    "- Input Parameters\n",
    "- Geometry\n",
    "- Mechanical Feld Setup\n",
    "- Thermal Electric Feld Setup\n",
    "- Solution Mechanical Problem\n",
    "- Solution Thermal Electric Problem\n",
    "- Plot Result\n",
    "- Evaluation"
   ]
  },
  {
   "cell_type": "markdown",
   "metadata": {},
   "source": [
    "### Bibliotheken importieren"
   ]
  },
  {
   "cell_type": "code",
   "execution_count": null,
   "metadata": {},
   "outputs": [],
   "source": [
    "# Importiere benötigte Bibliotheken\n",
    "import os\n",
    "import pyansys\n",
    "import numpy as np\n",
    "import matplotlib.pyplot as plt\n",
    "import pandas as pd\n",
    "from matplotlib.ticker import MultipleLocator\n",
    "from IPython.display import Image\n",
    "import time"
   ]
  },
  {
   "cell_type": "code",
   "execution_count": null,
   "metadata": {},
   "outputs": [],
   "source": [
    "# ANSYS Prozess beenden\n",
    "os.system(\"taskkill /f /im ANSYS.exe\")"
   ]
  },
  {
   "cell_type": "code",
   "execution_count": null,
   "metadata": {},
   "outputs": [],
   "source": [
    "def SaveAndExit():\n",
    "    ansys.save()\n",
    "    ansys.Exit()"
   ]
  },
  {
   "cell_type": "code",
   "execution_count": null,
   "metadata": {},
   "outputs": [],
   "source": [
    "pd.set_option('display.max_rows', None)\n",
    "pd.set_option('display.max_columns', None)"
   ]
  },
  {
   "cell_type": "markdown",
   "metadata": {},
   "source": [
    "### Working Directory\n",
    "TODO:\n",
    "- change cwd"
   ]
  },
  {
   "cell_type": "code",
   "execution_count": null,
   "metadata": {},
   "outputs": [],
   "source": [
    "# cwd change\n",
    "def Newdir(path):\n",
    "    import os\n",
    "    # new dir\n",
    "    try:\n",
    "        os.makedirs(path)\n",
    "    except FileExistsError:\n",
    "        print(path + '\\t directory already exists!')\n",
    "    # cwd\n",
    "    os.chdir(path)\n",
    "    print('cwd:', os.getcwd())"
   ]
  },
  {
   "cell_type": "code",
   "execution_count": null,
   "metadata": {},
   "outputs": [],
   "source": [
    "# ansys apdl aktivieren\n",
    "filecode = 'therm_cdw_ring_al_py2'  # TODO\n",
    "cwd = 'E:/Lu/SHK/Pyansys/Solution/'  # TODO\n",
    "mkpath = cwd + filecode\n",
    "Newdir(mkpath)\n",
    "ansys = pyansys.Mapdl(run_location=os.getcwd(),\n",
    "                      jobname=filecode,\n",
    "                      interactive_plotting=True)"
   ]
  },
  {
   "cell_type": "markdown",
   "metadata": {},
   "source": [
    "### Input Parameters\n",
    "TODO:  \n",
    "\n",
    "- Mat path \n",
    "- Puls name and \n",
    "- Puls path \n",
    "- sep = ',' or '\\t'\n",
    "- Force rate  entry\n",
    "- Ignition force"
   ]
  },
  {
   "cell_type": "code",
   "execution_count": null,
   "metadata": {},
   "outputs": [],
   "source": [
    "# Subfolder for output data\n",
    "subfolder = 'Output'\n",
    "sub_path = os.path.join(ansys.path,subfolder)\n",
    "try:\n",
    "    os.makedirs(sub_path)\n",
    "except FileExistsError:\n",
    "    print (sub_path + '\\t directory for output already exists!')\n",
    "\n",
    "# mat path\n",
    "mat_path =  'E:/Lu/SHK/Material'                     # TODO\n",
    "mat_sheet = 'ENAW5083_JMAT_EDIT'\n",
    "mat_buckel ='ENAW6082_JMAT_EDIT'\n",
    "mat_elektrode = 'CUCR1ZR_WSK'\n",
    "\n",
    "# current path\n",
    "puls_name = 'I_NIMAK_0063'                     # TODO\n",
    "puls_path =  'E:/Lu/SHK/Pyansys/Puls/'                              # TODO\n",
    "puls = pd.read_csv(puls_path + puls_name + '.csv', header = None,sep=',')           #TODO\n",
    "\n",
    "# physiscs name\n",
    "PHYS_STRUCT       = 'Struct'\n",
    "PHYS_T_E          = 'T_E'\n",
    "STRUCT_FILE       = 'Structure'\n",
    "T_E_FILE          = 'Thermo_Electric'\n",
    "\n",
    "# time data\n",
    "tm_lines = len(puls)\n",
    "tmax_i = max(puls.iloc[:,0])\n",
    "tmin_i = min(puls.iloc[:,0])\n",
    "tinc_i = (tmax_i - tmin_i)/(tm_lines-1)\n",
    "TIME_PF_ABS    = 1         # Time span for applying pre force      \n",
    "TIME_SP        = 1              # Spare time bt end of pre force application and start of weld force application\n",
    "\n",
    "# geometrie parameters\n",
    "PROJECTION_H1     = 0.0050\n",
    "PROJECTION_H2     = 0.0013\n",
    "PROJECTION_L1     = 0.0005\n",
    "PROJECTION_R1     = 0.020/2\n",
    "PROJECTION_R2     = 0.0140/2\n",
    "PROJECTION_R3     = 0.0034\n",
    "PROJECTION_PHI_1  = 30\n",
    "PROJECTION_PHI_2  = 30\n",
    "SHEET_R           = PROJECTION_R1\n",
    "SHEET_H           = 0.0020\n",
    "ELECTRODE_R1      = 0.020/2\n",
    "ELECTRODE_R2      = 0.0075\n",
    "ELECTRODE_R3      = 0.0069\n",
    "ELECTRODE_H1      = 0.0220\n",
    "ELECTRODE_H2      = 0.0100\n",
    "PI = np.arccos(-1)\n",
    "\n",
    "# constants setup\n",
    "T_UNI             = 298\n",
    "LRNTZ_NMBR        = 2.44E-8\n",
    "CNTCT1_LYR_THCKNSS= 0.00005\n",
    "CNTCT1_SRFC_CNDTN = 1\n",
    "\n",
    "# input data for mechanical loads\n",
    "IN_F_PRE    = 20E3                         \t                                                        # Pre load force [N]\n",
    "IN_F_W_DT  = float(input('Force rate 25E3 or 100E3 [N/s]: '))        # Force rate [N/s] TODO\n",
    "IN_F_IGN    = 22.9E3                                                                               # Ignition force [N] TODO\n",
    "IN_F_FIN   = IN_F_IGN+IN_F_W_DT*tmax_i                                      # Final force [N] (end of current flow)\n",
    "TIME_IGN = (IN_F_IGN-IN_F_PRE)/IN_F_W_DT                 # Time bt start of weld force application and ignition\n",
    "TIME_SWF_ABS   = TIME_SP+TIME_PF_ABS      \t# Starting time for application of welding force (absolute)\n",
    "TIME_SI_ABS   = TIME_SWF_ABS+TIME_IGN      # Starting time of current flow (absolute)\n",
    "TIME_E_ABS  = TIME_SI_ABS+tmax_i         # End time of simulation (absolute)\n",
    "\n",
    "# 4 arts of timestep for each mechanical loadsteps\n",
    "DT_PF  = TIME_PF_ABS/10                 # Time step size for pre loading\n",
    "DT_SP  = TIME_SP                        # Time step size for spare time\n",
    "DT_WF_SI = TIME_IGN/10   # Time step size for mechanical part of simulation\n",
    "DT_I  = .1E-3  # Time step size for time span of current flow\n",
    "\n",
    "# current time edit and resave to file\n",
    "puls.iloc[:,0] = puls.iloc[:,0] + TIME_SI_ABS\n",
    "puls_name = 'NIMAK63_I_EDIT'\n",
    "puls.to_csv(puls_path + puls_name+ '.csv',header=None,index=None)\n",
    "print('Zeitschrittweit: ', tinc_i)\n",
    "print('first 5 values of puls')\n",
    "puls.head()"
   ]
  },
  {
   "cell_type": "code",
   "execution_count": null,
   "metadata": {},
   "outputs": [],
   "source": [
    "TIME_SI_ABS"
   ]
  },
  {
   "cell_type": "code",
   "execution_count": null,
   "metadata": {},
   "outputs": [],
   "source": [
    "# weite puls to ansys table and array\n",
    "ansys.dim('TABLE_I', 'table', tm_lines, 1, 1, 'time')\n",
    "ansys.tread('TABLE_I', puls_path + puls_name, 'csv')\n",
    "ansys.dim('ARRAY_I', 'array', tm_lines + 1, 2)\n",
    "ansys.mfun('ARRAY_I(1,1)', 'copy', 'TABLE_I(0,0)')"
   ]
  },
  {
   "cell_type": "markdown",
   "metadata": {},
   "source": [
    "### Geometry"
   ]
  },
  {
   "cell_type": "code",
   "execution_count": null,
   "metadata": {
    "scrolled": true
   },
   "outputs": [],
   "source": [
    "ansys.prep7()\n",
    "# sheet\n",
    "ansys.k(100,0,0)\n",
    "ansys.k(101,PROJECTION_R3,0)\n",
    "if PROJECTION_PHI_1 == 90:\n",
    "    ansys.k(102,PROJECTION_R2-PROJECTION_L1/2,0)\n",
    "else:\n",
    "    ansys.k(102,PROJECTION_R2-PROJECTION_L1/2-PROJECTION_H2/(np.tan(PROJECTION_PHI_1*PI/180)),0)\n",
    "if PROJECTION_PHI_2 == 90 : \n",
    "    ansys.k(103,PROJECTION_R2+PROJECTION_L1/2,0)    \n",
    "else:\n",
    "    ansys.k(103,PROJECTION_R2+PROJECTION_L1/2+PROJECTION_H2/(np.tan(PROJECTION_PHI_2*PI/180)),0)\n",
    "\n",
    "ansys.k(104,PROJECTION_R1,0)\n",
    "ansys.k(105,PROJECTION_R1,-SHEET_H)\n",
    "if PROJECTION_PHI_1 == 90:\n",
    "    ansys.k(106,PROJECTION_R2-PROJECTION_L1/2,-SHEET_H)\n",
    "else:\n",
    "    ansys.k(106,PROJECTION_R2-PROJECTION_L1/2-PROJECTION_H2/(np.tan(PROJECTION_PHI_1*PI/180)),-SHEET_H)\n",
    "if PROJECTION_PHI_2 == 90:\n",
    "    ansys.k(107,PROJECTION_R2+PROJECTION_L1/2,-SHEET_H)\n",
    "else:\n",
    "    ansys.k(107,PROJECTION_R2+PROJECTION_L1/2+PROJECTION_H2/(np.tan(PROJECTION_PHI_2*PI/180)),-SHEET_H)\n",
    "\n",
    "ansys.k(108,PROJECTION_R3,-SHEET_H)\n",
    "ansys.k(109,0,-SHEET_H)\n",
    "\n",
    "# Buckel\n",
    "ansys.k(200,PROJECTION_R3,PROJECTION_H1)\n",
    "ansys.k(201,PROJECTION_R1,PROJECTION_H1)\n",
    "ansys.k(202,PROJECTION_R1,PROJECTION_H2+PROJECTION_H1*0.30)\n",
    "ansys.k(203,PROJECTION_R1,PROJECTION_H2+PROJECTION_H1*0.10)\n",
    "ansys.k(204,PROJECTION_R1,PROJECTION_H2)\n",
    "if PROJECTION_PHI_2 == 90:\n",
    "    ansys.k(205,PROJECTION_R2+PROJECTION_L1/2,PROJECTION_H2)\n",
    "else:\n",
    "    ansys.k(205,PROJECTION_R2+PROJECTION_L1/2+PROJECTION_H2/(np.tan(PROJECTION_PHI_2*PI/180)),PROJECTION_H2)\n",
    "ansys.k(206,PROJECTION_R2+PROJECTION_L1/2,0)\n",
    "ansys.k(207,PROJECTION_R2-PROJECTION_L1/2,0)\n",
    "if PROJECTION_PHI_1 == 90:\n",
    "    ansys.k(208,PROJECTION_R2-PROJECTION_L1/2,PROJECTION_H2)\n",
    "else:\n",
    "    ansys.k(208,PROJECTION_R2-PROJECTION_L1/2-PROJECTION_H2/(np.tan(PROJECTION_PHI_1*PI/180)),PROJECTION_H2)\n",
    "ansys.k(209,PROJECTION_R3,PROJECTION_H2)\n",
    "ansys.k(210,PROJECTION_R3,PROJECTION_H2+PROJECTION_H1*0.10)\n",
    "ansys.k(211,PROJECTION_R3,PROJECTION_H2+PROJECTION_H1*0.30)\n",
    "\n",
    "# Lower Electrode\n",
    "ansys.k(300,0,-SHEET_H)\n",
    "ansys.k(301,ELECTRODE_R1,-SHEET_H)\n",
    "ansys.k(302,ELECTRODE_R1,-SHEET_H-0.25*ELECTRODE_H2)\n",
    "ansys.k(303,0,-SHEET_H-0.25*ELECTRODE_H2)\n",
    "ansys.k(310,0,-SHEET_H-0.25*ELECTRODE_H2)\n",
    "ansys.k(311,ELECTRODE_R1,-SHEET_H-0.25*ELECTRODE_H2)\n",
    "ansys.k(312,ELECTRODE_R1,-SHEET_H-ELECTRODE_H1)\n",
    "ansys.k(313,ELECTRODE_R2,-SHEET_H-ELECTRODE_H1)\n",
    "ansys.k(314,ELECTRODE_R3,-SHEET_H-ELECTRODE_H2)\n",
    "ansys.k(315,0,-SHEET_H-ELECTRODE_H2)\n",
    "\n",
    "#  Upper Electrode\n",
    "ansys.k(400,0,PROJECTION_H1+0.25*ELECTRODE_H2)\n",
    "ansys.k(401,ELECTRODE_R1,PROJECTION_H1+0.25*ELECTRODE_H2)\n",
    "ansys.k(402,ELECTRODE_R1,PROJECTION_H1)\n",
    "ansys.k(403,0,PROJECTION_H1)\n",
    "ansys.k(413,0,PROJECTION_H1+0.25*ELECTRODE_H2)\n",
    "ansys.k(412,ELECTRODE_R1,PROJECTION_H1+0.25*ELECTRODE_H2)\n",
    "ansys.k(411,ELECTRODE_R1,PROJECTION_H1+ELECTRODE_H1)\n",
    "ansys.k(410,ELECTRODE_R2,PROJECTION_H1+ELECTRODE_H1)\n",
    "ansys.k(415,ELECTRODE_R3,PROJECTION_H1+ELECTRODE_H2)\n",
    "ansys.k(414,0,PROJECTION_H1+ELECTRODE_H2)"
   ]
  },
  {
   "cell_type": "code",
   "execution_count": null,
   "metadata": {
    "scrolled": true
   },
   "outputs": [],
   "source": [
    "# Area\n",
    "ansys.numstr('area', 100)\n",
    "ansys.numstr('line', 100)\n",
    "ansys.a(100, 101, 108, 109)\n",
    "ansys.a(101, 102, 106, 108)\n",
    "ansys.a(102, 103, 107, 106)\n",
    "ansys.a(103, 104, 105, 107)\n",
    "ansys.aglue(100, 101, 102, 103)\n",
    "ansys.numstr('area', 200)\n",
    "ansys.numstr('line', 200)\n",
    "ansys.a(205, 206, 207, 208)\n",
    "ansys.a(203, 204, 209, 210)\n",
    "ansys.a(202, 203, 210, 211)\n",
    "ansys.a(201, 202, 211, 200)\n",
    "ansys.aglue(200, 201, 202, 203)\n",
    "ansys.numstr('area', 300)\n",
    "ansys.numstr('line', 300)\n",
    "ansys.a(300, 301, 302, 303)\n",
    "ansys.a(310, 311, 312, 313, 314, 315)\n",
    "ansys.aglue(300, 301)\n",
    "ansys.numstr('area', 400)\n",
    "ansys.numstr('line', 400)\n",
    "ansys.a(400, 401, 402, 403)\n",
    "ansys.a(410, 411, 412, 413, 414, 415)\n",
    "ansys.aglue(400, 401)\n",
    "# area plot and wait one second (optional)\n",
    "ansys.pnum('line', 1)\n",
    "ansys.number(0)\n",
    "ansys.aplot()"
   ]
  },
  {
   "cell_type": "code",
   "execution_count": null,
   "metadata": {
    "scrolled": false
   },
   "outputs": [],
   "source": [
    "Image(filename='{}/{}000.png'.format(mkpath,filecode),height=600,width = 600)"
   ]
  },
  {
   "cell_type": "markdown",
   "metadata": {},
   "source": [
    "### Mechanical Feld Setup\n",
    "- Material\n",
    "- Meshing\n",
    "- Contact Elements\n",
    "- Bondary Conditions\n",
    "- Write Physics"
   ]
  },
  {
   "cell_type": "code",
   "execution_count": null,
   "metadata": {
    "scrolled": false
   },
   "outputs": [],
   "source": [
    "def mat_read(matnumber, matname, mat_path):\n",
    "    ansys.prep7()\n",
    "    ansys.mat(matnumber)\n",
    "    ansys.input(matname, 'si_mpl', mat_path)\n",
    "    time.sleep(1)\n",
    "\n",
    "\n",
    "mat_read(1, mat_sheet, mat_path)\n",
    "mat_read(2, mat_buckel, mat_path)\n",
    "mat_read(3, mat_elektrode, mat_path)"
   ]
  },
  {
   "cell_type": "code",
   "execution_count": null,
   "metadata": {},
   "outputs": [],
   "source": [
    "ansys.mplist('all')"
   ]
  },
  {
   "cell_type": "code",
   "execution_count": null,
   "metadata": {},
   "outputs": [],
   "source": [
    "# definition of parameters to save the tempnumber\n",
    "NTEMP_MAT1 = 'NTEMP_MAT1'\n",
    "NTEMP_MAT2 = 'NTEMP_MAT2'\n",
    "NTRSVX_MAT1 = 'NTRSVX_MAT1'\n",
    "NTRSVX_MAT2 = 'NTRSVX_MAT2'\n",
    "# definition of paramters to save the tablename\n",
    "TABLE_YIELD_MAT1 = 'TABLE_YIELD_MAT1'\n",
    "TABLE_YIELD_MAT2 = 'TABLE_YIELD_MAT2'\n",
    "TABLE_RSVX_MAT1 = 'TABLE_RSVX_MAT1'\n",
    "TABLE_RSVX_MAT2 = 'TABLE_RSVX_MAT2'\n",
    "\n",
    "# get tempnumber of each Mat\n",
    "ansys.get(NTEMP_MAT1, 'MISO', 1, 'NTEMP')\n",
    "ansys.get(NTEMP_MAT2, 'MISO', 2, 'NTEMP')\n",
    "ansys.get(NTRSVX_MAT1, 'RSVX', 1, 'NTEMP')\n",
    "ansys.get(NTRSVX_MAT2, 'RSVX', 2, 'NTEMP')\n",
    "\n",
    "# set up ansys table to save the data\n",
    "ansys.dim(TABLE_YIELD_MAT1, 'table', 'NTEMP_MAT1', 1, 1, 'temp')\n",
    "ansys.dim(TABLE_YIELD_MAT2, 'table', 'NTEMP_MAT2', 1, 1, 'temp')\n",
    "ansys.dim(TABLE_RSVX_MAT1, 'table', 'NTRSVX_MAT1', 1, 1, 'temp')\n",
    "ansys.dim(TABLE_RSVX_MAT2, 'table', 'NTRSVX_MAT2', 1, 1, 'temp')"
   ]
  },
  {
   "cell_type": "code",
   "execution_count": null,
   "metadata": {},
   "outputs": [],
   "source": [
    "ansys.load_parameters()\n",
    "ansys.parameters"
   ]
  },
  {
   "cell_type": "code",
   "execution_count": null,
   "metadata": {},
   "outputs": [],
   "source": [
    "def Matdata_in_Table(NTMEP, MPlab, Matnum, TB, YIELD=True):\n",
    "    for i in range(int(ansys.parameters[NTMEP])):\n",
    "        i += 1\n",
    "        ansys.get('TEMP_', MPlab, Matnum, 'TVAL', i)\n",
    "        ansys.run('{}({},0) = TEMP_'.format(TB, i))\n",
    "        if (YIELD == True):\n",
    "            ansys.get('Matdata', MPlab, Matnum, 'TEMP', 'TEMP_', 'CONST', 2)\n",
    "        else:\n",
    "            ansys.get('Matdata', MPlab, Matnum, 'TEMP', 'TEMP_', 'CONST', i)\n",
    "        ansys.run('{}({},1) = Matdata'.format(TB, i))\n",
    "    ansys.cfopen('{}/{}/{}'.format(mkpath, subfolder, TB), 'csv')\n",
    "    with ansys.non_interactive:\n",
    "        ansys.run(\"*VWRITE,{}(1,0),{}(1,1)\".format(TB, TB))\n",
    "        ansys.run(\"(ES9.2,',',ES10.3)\")\n",
    "    ansys.finish()\n",
    "    time.sleep(1)\n",
    "\n",
    "\n",
    "Matdata_in_Table(NTEMP_MAT1, 'MISO', 1, TABLE_YIELD_MAT1, True)\n",
    "Matdata_in_Table(NTEMP_MAT2, 'MISO', 2, TABLE_YIELD_MAT2, True)\n",
    "Matdata_in_Table(NTRSVX_MAT2, 'RSVX', 2, TABLE_RSVX_MAT2, False)\n",
    "Matdata_in_Table(NTRSVX_MAT1, 'RSVX', 1, TABLE_RSVX_MAT1, False)"
   ]
  },
  {
   "cell_type": "code",
   "execution_count": null,
   "metadata": {
    "scrolled": false
   },
   "outputs": [],
   "source": [
    "df = pd.read_csv('{}/{}/{}.csv'.format(mkpath,subfolder,TABLE_YIELD_MAT2),header=None,sep = ',' ,engine='python',names = ['TEMP','YIELD'])\n",
    "df.head(10)"
   ]
  },
  {
   "cell_type": "code",
   "execution_count": null,
   "metadata": {},
   "outputs": [],
   "source": [
    "### delete mat if something wrong happened\n",
    "# ansys.prep7()\n",
    "# ansys.mpdele('all','all')\n",
    "# ansys.tbdele('all','all')\n",
    "# ansys.mptemp()"
   ]
  },
  {
   "cell_type": "markdown",
   "metadata": {},
   "source": [
    "#### Meshing"
   ]
  },
  {
   "cell_type": "code",
   "execution_count": null,
   "metadata": {
    "scrolled": true
   },
   "outputs": [],
   "source": [
    "# Elements und Mat zuweisen\n",
    "ansys.prep7()\n",
    "ansys.et(1,183,0,'',1)\n",
    "ansys.asel('s','','',100,104,1)\n",
    "ansys.aatt(1,'',1)\n",
    "ansys.asel('s','','',200,204,1)\n",
    "ansys.aatt(2,'',1)\n",
    "ansys.asel('s','','',300,302,2)\n",
    "ansys.asel('a','','',400,402,2)\n",
    "ansys.aatt(3,'',1)\n",
    "ansys.allsel('all')\n",
    "# Meshing\n",
    "ansys.mopt('LSMO','on')     \n",
    "ansys.esize(0.0002)\n",
    "ansys.allsel('all')\n",
    "ansys.asel('s','','',102,200,98)\n",
    "ansys.aesize('all',0.00006)\n",
    "ansys.asel('s','','',101,103,2)\n",
    "ansys.asel('a','','',204)\n",
    "ansys.aesize('all',0.00008)\n",
    "ansys.asel('s','','',100,202,102)\n",
    "ansys.aesize('all',0.0001)\n",
    "ansys.allsel('all')\n",
    "ansys.amesh('all')\n",
    "# plot elements\n",
    "ansys.pnum('mat',1)\n",
    "ansys.number(1)\n",
    "ansys.eplot()\n",
    "# element shape quality report\n",
    "ansys.prep7()\n",
    "ansys.shpp('SUMM')"
   ]
  },
  {
   "cell_type": "code",
   "execution_count": null,
   "metadata": {},
   "outputs": [],
   "source": [
    "Image(filename='{}/{}001.png'.format(mkpath,filecode),height=600,width = 600)"
   ]
  },
  {
   "cell_type": "markdown",
   "metadata": {},
   "source": [
    "#### Contact Elements\n",
    "- contact pair 1: ring - lower sheer'"
   ]
  },
  {
   "cell_type": "code",
   "execution_count": null,
   "metadata": {},
   "outputs": [],
   "source": [
    "ansys.prep7()\n",
    "ansys.mat(2)\n",
    "ansys.r(3)\n",
    "ansys.real(3)\n",
    "ansys.et(2,169)\n",
    "ansys.et(3,172)\n",
    "ansys.r(3,'',1.0,0.1,0,)\n",
    "ansys.rmore('','',1.0E20,0.0,1.0,)\n",
    "ansys.rmore(0.0,'',1.0,'',1.0,0.5)\n",
    "ansys.rmore('',1.0,1.0,0.0,'',1.0)\n",
    "ansys.keyopt(3,1,0)\n",
    "ansys.keyopt(3,2,4)\n",
    "ansys.keyopt(3,3,0)\n",
    "ansys.keyopt(3,4,0)\n",
    "ansys.keyopt(3,5,0)\n",
    "ansys.keyopt(3,6,2)\n",
    "ansys.keyopt(3,7,0)\n",
    "ansys.keyopt(3,8,0)\n",
    "ansys.keyopt(3,9,0)\n",
    "ansys.keyopt(3,10,0)\n",
    "ansys.keyopt(3,11,0)\n",
    "ansys.keyopt(3,12,0)\n",
    "ansys.nlgeom('on')\n",
    "# GENERATE THE TARGET SURFACE\n",
    "ansys.lsel('s','','',107)\n",
    "ansys.type(2)\n",
    "ansys.nsll('s',1)\n",
    "ansys.esln('s',0)\n",
    "ansys.esurf()\n",
    "# GENERATE THE CONTACT SURFACE\n",
    "ansys.lsel('s','','',200,202,1)\n",
    "ansys.type(3)\n",
    "ansys.nsll('s',1)\n",
    "ansys.esln('s',0)\n",
    "ansys.esurf()\n",
    "ansys.allsel('all')"
   ]
  },
  {
   "cell_type": "markdown",
   "metadata": {},
   "source": [
    "- contact pair 2: upper electrode - sheet"
   ]
  },
  {
   "cell_type": "code",
   "execution_count": null,
   "metadata": {},
   "outputs": [],
   "source": [
    "ansys.prep7()\n",
    "ansys.mat(1)\n",
    "ansys.r(5)\n",
    "ansys.real(5)\n",
    "ansys.et(4,169)\n",
    "ansys.et(5,172)\n",
    "ansys.r(5,'',1.0,0.1,0,)\n",
    "ansys.rmore('','',1.0E20,0.0,1.0,)\n",
    "ansys.rmore(0.0,'',1.0,'',1.0,0.5)\n",
    "ansys.rmore('',1.0,1.0,0.0,'',1.0)\n",
    "ansys.keyopt(5,1,0)\n",
    "ansys.keyopt(5,2,0)\n",
    "ansys.keyopt(5,3,0)\n",
    "ansys.keyopt(5,4,0)\n",
    "ansys.keyopt(5,5,0)\n",
    "ansys.keyopt(5,6,2)\n",
    "ansys.keyopt(5,7,0)\n",
    "ansys.keyopt(5,8,0)\n",
    "ansys.keyopt(5,9,0)\n",
    "ansys.keyopt(5,10,0)\n",
    "ansys.keyopt(5,11,0)\n",
    "ansys.keyopt(5,12,5)\n",
    "ansys.nlgeom('on')\n",
    "\n",
    "ansys.lsel('s','','',213)\n",
    "ansys.type(4)\n",
    "ansys.nsll('s',1)\n",
    "ansys.esln('s',0)\n",
    "ansys.esurf()\n",
    "\n",
    "ansys.lsel('s','','',402)\n",
    "ansys.type(5)\n",
    "ansys.nsll('s',1)\n",
    "ansys.esln('s',0)\n",
    "ansys.esurf()\n",
    "\n",
    "ansys.allsel('all')"
   ]
  },
  {
   "cell_type": "markdown",
   "metadata": {},
   "source": [
    "- contact pair 3: lower electrode - sheet  "
   ]
  },
  {
   "cell_type": "code",
   "execution_count": null,
   "metadata": {},
   "outputs": [],
   "source": [
    "ansys.prep7()\n",
    "ansys.mat(3)\n",
    "ansys.r(7)\n",
    "ansys.real(7)\n",
    "ansys.et(6,169)\n",
    "ansys.et(7,172)\n",
    "ansys.r(7,'',1.0,0.1,0,)\n",
    "ansys.rmore(0.0,'',1.0,'',1.0,0.5)\n",
    "ansys.rmore('',1.0,1.0,0.0,'',1.0)\n",
    "ansys.rmore('',1.0,1.0,0.0,'',1.0)\n",
    "ansys.keyopt(7,1,0)\n",
    "ansys.keyopt(7,2,0)\n",
    "ansys.keyopt(7,3,0)\n",
    "ansys.keyopt(7,4,0)\n",
    "ansys.keyopt(7,5,0)\n",
    "ansys.keyopt(7,6,2)\n",
    "ansys.keyopt(7,7,0)\n",
    "ansys.keyopt(7,8,0)\n",
    "ansys.keyopt(7,9,0)\n",
    "ansys.keyopt(7,10,0)\n",
    "ansys.keyopt(7,11,0)\n",
    "ansys.keyopt(7,12,5)\n",
    "ansys.nropt('unsym')\n",
    "ansys.nlgeom('on')\n",
    "\n",
    "ansys.lsel('s','','',300)\n",
    "ansys.type(6)\n",
    "ansys.nsll('s',1)\n",
    "ansys.esln('s',0)\n",
    "ansys.esurf()\n",
    "\n",
    "ansys.lsel('s','','',106,112,3)\n",
    "ansys.lsel('a','','',102)\n",
    "ansys.type(7)\n",
    "ansys.nsll('s',1)\n",
    "ansys.esln('s',0)\n",
    "ansys.esurf()\n",
    "\n",
    "ansys.allsel('all')"
   ]
  },
  {
   "cell_type": "code",
   "execution_count": null,
   "metadata": {},
   "outputs": [],
   "source": [
    "# check the contact definition\n",
    "ansys.cncheck()\n",
    "ansys.elist()\n",
    "# contact pair plot \n",
    "ansys.esel('s','ename','',172)\n",
    "ansys.esel('a','ename','',169)\n",
    "ansys.replot()\n",
    "ansys.allsel('all')"
   ]
  },
  {
   "cell_type": "code",
   "execution_count": null,
   "metadata": {
    "scrolled": false
   },
   "outputs": [],
   "source": [
    "Image(filename='{}/{}002.png'.format(mkpath,filecode),height=600,width = 600)"
   ]
  },
  {
   "cell_type": "markdown",
   "metadata": {},
   "source": [
    "#### Boundary Conditions "
   ]
  },
  {
   "cell_type": "code",
   "execution_count": null,
   "metadata": {
    "scrolled": true
   },
   "outputs": [],
   "source": [
    "ansys.allsel('all')\n",
    "ansys.nsel('s','loc','x',0)\n",
    "ansys.d('all','',0,'','','','ux')\n",
    "ansys.lsel('s','','',404)\n",
    "ansys.nsll('s',1)\n",
    "ansys.cp(1,'uy','all')\n",
    "ansys.lsel('s','','',306)\n",
    "ansys.dl('all','','uy',0)\n",
    "ansys.allsel('all')\n",
    "ansys.tunif(T_UNI)\n",
    "ansys.pbc('all','',1)\n",
    "ansys.replot()"
   ]
  },
  {
   "cell_type": "code",
   "execution_count": null,
   "metadata": {
    "scrolled": false
   },
   "outputs": [],
   "source": [
    "Image(filename='{}/{}003.png'.format(mkpath,filecode),height=600,width = 600)"
   ]
  },
  {
   "cell_type": "markdown",
   "metadata": {},
   "source": [
    "#### Write Physics "
   ]
  },
  {
   "cell_type": "code",
   "execution_count": null,
   "metadata": {
    "scrolled": true
   },
   "outputs": [],
   "source": [
    "#/solu\n",
    "ansys.slashsolu()\n",
    "ansys.antype(4)\n",
    "ansys.nropt('unsym')\n",
    "ansys.kbc(0)\n",
    "ansys.autots('on')\n",
    "ansys.nlgeom('on')\n",
    "ansys.neqit(100)\n",
    "ansys.outres('all','all')\n",
    "ansys.allsel('all')\n",
    "ansys.physics('write','PHYS_STRUCT',PHYS_STRUCT)\n",
    "ansys.physics('clear')\n",
    "ansys.save()\n",
    "ansys.finish()"
   ]
  },
  {
   "cell_type": "markdown",
   "metadata": {},
   "source": [
    "### Thermal Electric Feld Setup\n",
    "- Material\n",
    "- Meshing\n",
    "- Contact Elements\n",
    "- Bondary Conditions\n",
    "- Write Physics"
   ]
  },
  {
   "cell_type": "markdown",
   "metadata": {},
   "source": [
    "#### Material "
   ]
  },
  {
   "cell_type": "code",
   "execution_count": null,
   "metadata": {},
   "outputs": [],
   "source": [
    "mat_read(1,mat_sheet,mat_path)\n",
    "mat_read(2,mat_buckel,mat_path)\n",
    "mat_read(3,mat_elektrode,mat_path)"
   ]
  },
  {
   "cell_type": "code",
   "execution_count": null,
   "metadata": {
    "scrolled": true
   },
   "outputs": [],
   "source": [
    "# a list to check mat\n",
    "ansys.mplist('all')"
   ]
  },
  {
   "cell_type": "code",
   "execution_count": null,
   "metadata": {},
   "outputs": [],
   "source": [
    "# ## delete mat if something wrong happened\n",
    "# ansys.prep7()\n",
    "# ansys.mpdele('all','all')\n",
    "# ansys.tbdele('all','all')\n",
    "# ansys.mptemp()"
   ]
  },
  {
   "cell_type": "markdown",
   "metadata": {},
   "source": [
    "#### Meshing "
   ]
  },
  {
   "cell_type": "code",
   "execution_count": null,
   "metadata": {},
   "outputs": [],
   "source": [
    "ansys.et(1,223,110,'',1 )\n",
    "ansys.allsel('all')"
   ]
  },
  {
   "cell_type": "markdown",
   "metadata": {},
   "source": [
    "#### Contact Elements\n",
    "- contact pair 1: ring - lower sheer"
   ]
  },
  {
   "cell_type": "code",
   "execution_count": null,
   "metadata": {},
   "outputs": [],
   "source": [
    "ansys.prep7()\n",
    "ansys.mat(2)\n",
    "ansys.r(3)\n",
    "ansys.real(3)\n",
    "ansys.et(2,169)\n",
    "ansys.et(3,172)\n",
    "ansys.r(3,'',1.0,0.1,0,)\n",
    "ansys.rmore('','',1.0E20,0.0,1.0,)\n",
    "ansys.rmore(0.0,'',1.0,'',1.0,0.5)\n",
    "ansys.rmore('',1.0,1.0,0.0,'',1.0)\n",
    "ansys.rmore('','','','',)\n",
    "ansys.rmore('','','',913)\n",
    "ansys.keyopt(3,1,4)\n",
    "ansys.keyopt(3,2,0)\n",
    "ansys.keyopt(3,3,0)\n",
    "ansys.keyopt(3,4,0)\n",
    "ansys.keyopt(3,5,0)\n",
    "ansys.keyopt(3,6,0)\n",
    "ansys.keyopt(3,7,0)\n",
    "ansys.keyopt(3,8,0)\n",
    "ansys.keyopt(3,9,0)\n",
    "ansys.keyopt(3,10,0)\n",
    "ansys.keyopt(3,11,0)\n",
    "ansys.keyopt(3,12,5)"
   ]
  },
  {
   "cell_type": "markdown",
   "metadata": {},
   "source": [
    "- contact pair 2: upper electrode - sheer"
   ]
  },
  {
   "cell_type": "code",
   "execution_count": null,
   "metadata": {},
   "outputs": [],
   "source": [
    "ansys.prep7()\n",
    "ansys.mat(1)\n",
    "ansys.r(5)\n",
    "ansys.real(5)\n",
    "ansys.et(4,169)\n",
    "ansys.et(5,172)\n",
    "ansys.r(5,'',1.0,0.1,0,)\n",
    "ansys.rmore('','',1.0E20,0.0,1.0,)\n",
    "ansys.rmore(0.0,'',1.0,'',1.0,0.5)\n",
    "ansys.rmore('',1.0,1.0,0.0,'',1.0)\n",
    "ansys.rmore('','','','',)\n",
    "ansys.rmore('','','',913)\n",
    "ansys.keyopt(5,1,4)\n",
    "ansys.keyopt(5,2,0)\n",
    "ansys.keyopt(5,3,0)\n",
    "ansys.keyopt(5,4,0)\n",
    "ansys.keyopt(5,5,0)\n",
    "ansys.keyopt(5,6,0)\n",
    "ansys.keyopt(5,7,0)\n",
    "ansys.keyopt(5,8,0)\n",
    "ansys.keyopt(5,9,0)\n",
    "ansys.keyopt(5,10,0)\n",
    "ansys.keyopt(5,11,0)\n",
    "ansys.keyopt(5,12,5)"
   ]
  },
  {
   "cell_type": "markdown",
   "metadata": {},
   "source": [
    "- contact pair 3: lower electrode - lower sheer"
   ]
  },
  {
   "cell_type": "code",
   "execution_count": null,
   "metadata": {},
   "outputs": [],
   "source": [
    "ansys.prep7()\n",
    "ansys.mat(3)\n",
    "ansys.r(7)\n",
    "ansys.real(7)\n",
    "ansys.et(6,169)\n",
    "ansys.et(7,172)\n",
    "ansys.r(7,'',1.0,0.1,0,)\n",
    "ansys.rmore('','',1.0E20,0.0,1.0,)\n",
    "ansys.rmore(0.0,'',1.0,'',1.0,0.5)\n",
    "ansys.rmore('',1.0,1.0,0.0,'',1.0)\n",
    "ansys.rmore('','','','',)\n",
    "ansys.rmore('','','',913)\n",
    "ansys.keyopt(7,1,4)\n",
    "ansys.keyopt(7,2,0)\n",
    "ansys.keyopt(7,3,0)\n",
    "ansys.keyopt(7,4,0)\n",
    "ansys.keyopt(7,5,0)\n",
    "ansys.keyopt(7,6,0)\n",
    "ansys.keyopt(7,7,0)\n",
    "ansys.keyopt(7,8,0)\n",
    "ansys.keyopt(7,9,0)\n",
    "ansys.keyopt(7,10,0)\n",
    "ansys.keyopt(7,11,0)\n",
    "ansys.keyopt(7,12,5)"
   ]
  },
  {
   "cell_type": "markdown",
   "metadata": {},
   "source": [
    "#### Bondary Conditions "
   ]
  },
  {
   "cell_type": "code",
   "execution_count": null,
   "metadata": {
    "scrolled": true
   },
   "outputs": [],
   "source": [
    "ansys.allsel('all')\n",
    "ansys.nsel('s', 'loc', 'y', PROJECTION_H1 + ELECTRODE_H1)\n",
    "ansys.cp(2, 'volt', 'all')\n",
    "ansys.get('n1', 'node', '', 'num', 'min')\n",
    "ansys.f('n1', 'amps', 0)\n",
    "ansys.lsel('s', '', '', 306)\n",
    "ansys.dl('all', '', 'volt', 0)\n",
    "ansys.allsel('all')\n",
    "ansys.tunif(T_UNI)\n",
    "# force at node\n",
    "ansys.flist('n1')\n",
    "ansys.pbc('all', '', 1)\n",
    "ansys.replot()"
   ]
  },
  {
   "cell_type": "code",
   "execution_count": null,
   "metadata": {},
   "outputs": [],
   "source": [
    "Image(filename='{}/{}004.png'.format(mkpath,filecode),height=600,width = 600)"
   ]
  },
  {
   "cell_type": "markdown",
   "metadata": {},
   "source": [
    "#### Write Physics "
   ]
  },
  {
   "cell_type": "code",
   "execution_count": null,
   "metadata": {
    "scrolled": true
   },
   "outputs": [],
   "source": [
    "#/solu\n",
    "ansys.slashsolu()\n",
    "ansys.nlhist('nsol', '', 'temp', 'max', 0)\n",
    "ansys.antype(4)\n",
    "ansys.kbc(0)\n",
    "ansys.autots('off')\n",
    "ansys.nropt('unsym', '', 'off')\n",
    "ansys.trnopt('full', '', '', '', '', 'hht')\n",
    "ansys.lnsrch('on')\n",
    "ansys.neqit(100)\n",
    "ansys.outres('all', 'all')\n",
    "ansys.allsel('all')\n",
    "ansys.physics('write', 'PHYS_T_E', PHYS_T_E)\n",
    "ansys.physics('clear')\n",
    "ansys.save()\n",
    "ansys.finish()"
   ]
  },
  {
   "cell_type": "markdown",
   "metadata": {},
   "source": [
    "### Solution Mechanical Problem\n",
    "- load strut physical enviroment\n",
    "- divide mechanical solution into 4 parts\n",
    "    - part1: Preloadling\n",
    "    - part2: Spare keep constant force\n",
    "    - part3: Applying welding force until start of current flow\n",
    "    - part4: Applying welding force after start of current flow\n",
    "- output pressure data for ECR-calcution"
   ]
  },
  {
   "cell_type": "markdown",
   "metadata": {},
   "source": [
    "#### Load strut physical enviroment"
   ]
  },
  {
   "cell_type": "code",
   "execution_count": null,
   "metadata": {
    "scrolled": true
   },
   "outputs": [],
   "source": [
    "with ansys.non_interactive:\n",
    "    ansys.run(\"/FILNAME,{},1\".format(STRUCT_FILE))\n",
    "    ansys.run(\"save\")\n",
    "ansys.assign('esav', PHYS_STRUCT, 'esav')\n",
    "ansys.assign('emat', PHYS_STRUCT, 'emat')\n",
    "ansys.input('{}/{}'.format(mkpath, PHYS_STRUCT), 'ph1')"
   ]
  },
  {
   "cell_type": "markdown",
   "metadata": {},
   "source": [
    "#### Divide mechanical solution into 4 parts \n",
    "- TODO\n",
    "    - Path kopieren und einfügen"
   ]
  },
  {
   "cell_type": "code",
   "execution_count": null,
   "metadata": {},
   "outputs": [],
   "source": [
    "def fk_force(lsnum, kp, lab, force, endtime, dtime, dtmin, dtmax, kbc):\n",
    "    ansys.slashsolu()\n",
    "    ansys.antype(4)\n",
    "    ansys.fk(kp, lab, force)\n",
    "    ansys.sbctran()\n",
    "    ansys.time(endtime)\n",
    "    ansys.deltim(dtime, dtmin, dtmax)\n",
    "    ansys.kbc(kbc)\n",
    "    ansys.outres('all', 'all')\n",
    "    ansys.allsel('all')\n",
    "    ansys.lswrite(lsnum)"
   ]
  },
  {
   "cell_type": "code",
   "execution_count": null,
   "metadata": {
    "scrolled": true
   },
   "outputs": [],
   "source": [
    "# part1: Preloadling\n",
    "fk_force(1,410,'fy',-1*IN_F_PRE,TIME_PF_ABS,DT_PF,DT_PF*0.1,DT_PF,0)\n",
    "# part2: Spare keep constant force\n",
    "fk_force(2,410,'fy',-1*IN_F_PRE,TIME_SWF_ABS,DT_SP,DT_SP,DT_SP,1)\n",
    "# part3: Applying welding force until start of current flow\n",
    "fk_force(3,410,'fy',-1*IN_F_IGN,TIME_SI_ABS,DT_WF_SI,DT_WF_SI*0.01,DT_WF_SI*100,0)\n",
    "# part4: Applying welding force after start of current flow\n",
    "fk_force(4,410,'fy',-1*IN_F_FIN,TIME_E_ABS,DT_I,DT_I,DT_I,0)"
   ]
  },
  {
   "cell_type": "code",
   "execution_count": null,
   "metadata": {},
   "outputs": [],
   "source": [
    "# path kopieren\n",
    "with ansys.non_interactive:\n",
    "    ansys.run(\"lssolve,1,4,1\")"
   ]
  },
  {
   "cell_type": "code",
   "execution_count": null,
   "metadata": {
    "scrolled": true
   },
   "outputs": [],
   "source": [
    "def follow(thefile):\n",
    "    thefile.seek(0, 2)\n",
    "    T_or_F = True\n",
    "    while T_or_F:\n",
    "        line = thefile.readlines()\n",
    "        if not line:\n",
    "            time.sleep(0.5)\n",
    "            continue\n",
    "        size1 = os.path.getsize(\"{}.out\".format(file))\n",
    "        time.sleep(3)\n",
    "        size2 = os.path.getsize(\"{}.out\".format(file))\n",
    "        time.sleep(3)\n",
    "        if (size1 == size2):\n",
    "            T_or_F = False\n",
    "        yield line, size1, size2\n",
    "        \n",
    "\n",
    "f = open(r'C:\\Users\\Simulation\\AppData\\Local\\pyansys\\pyansys\\tmp_vxrhajockd.inp','r') # TODO kopierter Path hier einfügen\n",
    "f.seek(10)\n",
    "file = f.readline().split('.')[0]\n",
    "logfile = open(\"{}.out\".format(file), \"r\")\n",
    "loglines = follow(logfile)\n",
    "for tup in loglines:\n",
    "    for line in tup[0]:\n",
    "        print(line)\n",
    "    if tup[1] == tup[2]:\n",
    "        break"
   ]
  },
  {
   "cell_type": "code",
   "execution_count": null,
   "metadata": {
    "scrolled": false
   },
   "outputs": [],
   "source": [
    "ansys.post1()\n",
    "ansys.pldisp(2)\n",
    "Image(filename='{}/{}000.png'.format(mkpath,STRUCT_FILE),height=600,width = 600)"
   ]
  },
  {
   "cell_type": "code",
   "execution_count": null,
   "metadata": {},
   "outputs": [],
   "source": [
    "ansys.save()"
   ]
  },
  {
   "cell_type": "markdown",
   "metadata": {},
   "source": [
    "#### output pressure data for ECR-calcution\n",
    "- select relevant nodes\n",
    "- write the require paremeters in ansys apdl\n",
    "- write out the pressure data  with time  and save as csv"
   ]
  },
  {
   "cell_type": "markdown",
   "metadata": {},
   "source": [
    "##### select relevant nodes"
   ]
  },
  {
   "cell_type": "code",
   "execution_count": null,
   "metadata": {
    "scrolled": true
   },
   "outputs": [],
   "source": [
    "ansys.prep7()\n",
    "ansys.allsel('all')\n",
    "ansys.upgeom(1, 3, 'last', STRUCT_FILE, 'rst')"
   ]
  },
  {
   "cell_type": "code",
   "execution_count": null,
   "metadata": {
    "scrolled": true
   },
   "outputs": [],
   "source": [
    "ansys.post1()\n",
    "ansys.lsel('s', '', '', 200, 202, 1)\n",
    "ansys.nsll('s', 1)\n",
    "ansys.esln('s', 0)\n",
    "ansys.nsle('r', 'corner')\n",
    "ansys.nplot()\n",
    "ansys.load_parameters()\n",
    "ansys.parameters"
   ]
  },
  {
   "cell_type": "code",
   "execution_count": null,
   "metadata": {},
   "outputs": [],
   "source": [
    "Image(filename='{}/{}001.png'.format(mkpath,STRUCT_FILE),height=600,width = 600)"
   ]
  },
  {
   "cell_type": "markdown",
   "metadata": {},
   "source": [
    "##### write the require paremeters in ansys apdl"
   ]
  },
  {
   "cell_type": "code",
   "execution_count": null,
   "metadata": {},
   "outputs": [],
   "source": [
    "# define the name of the substeps \n",
    "ansys.post1()\n",
    "par = ['NMBR_SS_PF', 'NMBR_SS_SP', 'NMBR_SS_SWF', 'NMBR_SS_EI']\n",
    "ansys.run(\"ND_PRES_CUR = 0\")\n",
    "ansys.load_parameters()\n",
    "\n",
    "# get the substeps number of eath Loadstep\n",
    "for i in range(len(par)):\n",
    "    ansys.set(i + 1, 'last')\n",
    "    ansys.get(par[i], 'active', 0, 'solu', 'ncmss')\n",
    "    ansys.load_parameters()\n",
    "\n",
    "NMBR_SS = sum([ansys.parameters[ele] for ele in par])\n",
    "NMBR_SS_EI = ansys.parameters['NMBR_SS_EI']\n",
    "\n",
    "# count the number of node on contact surface\n",
    "ansys.get('CNTCT1_ND_NMR', 'node', 0, 'count')\n",
    "# get the max nodenumber of the selected nodes\n",
    "ansys.get('CNTCT1_ND_MAX', 'node', 0, 'num', 'max')\n",
    "# get the min nodenumber of the selected nodes\n",
    "ansys.get('CNTCT1_ND_MIN', 'node', 0, 'num', 'min')\n",
    "# build a node time press tab\n",
    "ansys.dim('CNTCT1_ND_PRES', 'table', 'CNTCT1_ND_NMR', NMBR_SS_EI, '', '', 'time')\n",
    "ansys.load_parameters()\n",
    "ansys.parameters"
   ]
  },
  {
   "cell_type": "markdown",
   "metadata": {},
   "source": [
    "#####  write out the pressur data e with time and save as csv \n",
    "- durch for loop werden\n",
    "    - min node Nummer == aktelle node Number\n",
    "    - zuerst die Zeit von einem Substep gekregt\n",
    "    - schreiben die zeit als columns von Tab\n",
    "    - kommen zu einer anderen Loop\n",
    "        - schreiben die aktuelle node Number ald index von Tab\n",
    "        - kriegen Pressure von akutelle node Number\n",
    "        - kriegen die nächste node Number\n",
    "- Schreibe aus als csv Datei (*vwrite alle Daten und die zusammengefügte Daten als csv Datei speichern)\n",
    "- Daten erkennen\n",
    "- TODO: change name of dataframe"
   ]
  },
  {
   "cell_type": "code",
   "execution_count": null,
   "metadata": {
    "scrolled": true
   },
   "outputs": [],
   "source": [
    "time_col, node_index = [],[]\n",
    "ansys.set(3,'last')\n",
    "CNTCT1_ND_MIN = ansys.parameters['CNTCT1_ND_MIN']\n",
    "CNTCT1_ND_NMR = ansys.parameters['CNTCT1_ND_NMR']\n",
    "NMBR_SS_EI = ansys.parameters['NMBR_SS_EI']\n",
    "for i in range(int(NMBR_SS_EI)):\n",
    "    CNTCT1_ND_CUR = CNTCT1_ND_MIN\n",
    "    ansys.get('TIME_LS', 'active', 0, 'set', 'time')\n",
    "    ansys.load_parameters()\n",
    "    TIME_LS = ansys.parameters['TIME_LS']\n",
    "    time_col.append(TIME_LS)\n",
    "    ansys.taxis('CNTCT1_ND_PRES(1,{})'.format(i+1),2,TIME_LS)\n",
    "    for j in range(int(CNTCT1_ND_NMR)):\n",
    "        if i == 0:\n",
    "            ansys.taxis('CNTCT1_ND_PRES({},1)'.format(j+1),1,CNTCT1_ND_CUR) \n",
    "            node_index.append(CNTCT1_ND_CUR)\n",
    "            ansys.get('CNTCT1_ND_PRES({},{})'.format(j+1,i+1),'node',CNTCT1_ND_CUR,'cont', 'pres')\n",
    "            ansys.get('CNTCT1_ND_CUR', 'node', CNTCT1_ND_CUR, 'nxth')\n",
    "            ansys.load_parameters()\n",
    "            CNTCT1_ND_CUR = ansys.parameters['CNTCT1_ND_CUR']\n",
    "        else:\n",
    "            ansys.get('CNTCT1_ND_PRES({},{})'.format(j+1,i+1),'node',node_index[j],'cont', 'pres')\n",
    "              \n",
    "    ansys.set('next')"
   ]
  },
  {
   "cell_type": "code",
   "execution_count": null,
   "metadata": {},
   "outputs": [],
   "source": [
    "a = list(np.arange(1,len(time_col)+1,1))\n",
    "b = 0\n",
    "files = []\n",
    "TB = 'CNTCT1_ND_PRES'\n",
    "for j in range(len(a)//10 + 1):\n",
    "    ansys.cfopen('{}/{}/pres_{}'.format(mkpath, subfolder,j+1), 'csv')\n",
    "    files.append('pres_{}.csv'.format(j+1))\n",
    "    with ansys.non_interactive:\n",
    "        if (j+1<=14):\n",
    "            c =[a[i+b] for i in range(10)] \n",
    "            print(c)\n",
    "            ansys.run(f'*VWRITE,{TB}(1,{c[0]}),{TB}(1,{c[1]}),{TB}(1,{c[2]}),{TB}(1,{c[3]}),{TB}(1,{c[4]}),{TB}(1,{c[5]}),{TB}(1,{c[6]}),{TB}(1,{c[7]}),{TB}(1,{c[8]}),{TB}(1,{c[9]})')\n",
    "            ansys.run(\"(ES10.3,',',ES10.3,',',ES10.3,',',ES10.3,',',ES10.3,','ES10.3,',',ES10.3,',',ES10.3,',',ES10.3,',',ES10.3)\")\n",
    "            b +=10 \n",
    "        \n",
    "        else:\n",
    "            ansys.run(f'*VWRITE,{TB}(1,{a[-3]}),{TB}(1,{a[-2]}),{TB}(1,{a[-1]})')\n",
    "            ansys.run(\"(ES10.3,',',ES10.3,',',ES10.3)\")\n",
    "    time.sleep(1)"
   ]
  },
  {
   "cell_type": "code",
   "execution_count": null,
   "metadata": {},
   "outputs": [],
   "source": [
    "test_all = pd.DataFrame()\n",
    "for file in files:\n",
    "    df = pd.read_csv('{}/{}/{}'.format(mkpath,subfolder,file), header=None)\n",
    "    test_all = pd.concat([test_all,df],axis=1,)\n",
    "test_all.columns = time_col\n",
    "df_name = 'Press_Time'  # TODO\n",
    "test_all[0] = node_index\n",
    "test_all.set_index([0], inplace=True)\n",
    "test_all.to_csv('{}/{}/{}.csv'.format(mkpath, subfolder, df_name))"
   ]
  },
  {
   "cell_type": "markdown",
   "metadata": {},
   "source": [
    "#### Calculate electrical and thermal conductivity at 298 K"
   ]
  },
  {
   "cell_type": "code",
   "execution_count": null,
   "metadata": {},
   "outputs": [],
   "source": [
    "# Beginn with calculation at sarting time of current flow\n",
    "ansys.post1()\n",
    "ansys.set(3, 'last')"
   ]
  },
  {
   "cell_type": "code",
   "execution_count": null,
   "metadata": {},
   "outputs": [],
   "source": [
    "CNTCT1_ND_NMR = ansys.parameters['CNTCT1_ND_NMR']\n",
    "ansys.dim('CNTCT1_ECC_X', 'table', CNTCT1_ND_NMR, 1, 1, 'x', 'ECC')\n",
    "ansys.dim('CNTCT1_TCC_X', 'table', CNTCT1_ND_NMR, 1, 1, 'x', 'TCC')"
   ]
  },
  {
   "cell_type": "code",
   "execution_count": null,
   "metadata": {},
   "outputs": [],
   "source": [
    "df5 = pd.read_csv('{}/{}/{}.csv'.format(mkpath,subfolder,df_name),index_col=0)\n",
    "df5"
   ]
  },
  {
   "cell_type": "code",
   "execution_count": null,
   "metadata": {},
   "outputs": [],
   "source": [
    "# Calculate electrical and thermal conductivity at 298 k\n",
    "def table_save(dfname, list1, list2, tread=False, t_name=None):\n",
    "    df = pd.DataFrame({0: list1, 1: list2}, index=None)\n",
    "    df.sort_values(0, axis=0, ascending=True, inplace=True)\n",
    "    df.to_csv('{}/{}/{}.csv'.format(mkpath, subfolder, dfname),\n",
    "              index=None,\n",
    "              header=None)\n",
    "    if tread == True:\n",
    "        ansys.finish()\n",
    "        ansys.tread('CNTCT1_{}_X'.format(t_name),'{}/{}/{}'.format(mkpath, subfolder, dfname), 'csv')\n",
    "\n",
    "ECR_l, ECC_l, TCC_l, NX_l= [], [], [], []\n",
    "CNTCT1_ND_l = df5.index.tolist()\n",
    "CNTCT1_ND_NMR = ansys.parameters['CNTCT1_ND_NMR']\n",
    "CNTCT1_ND_MIN = ansys.parameters['CNTCT1_ND_MIN']\n",
    "ansys.get('TIME_LS', 'active', 0, 'set', 'time')\n",
    "ansys.load_parameters()\n",
    "time = ansys.parameters['TIME_LS']\n",
    "# compare yeild between two Mat at 298K\n",
    "ansys.run('YIELD_MAT1 = TABLE_YIELD_MAT1({})'.format(T_UNI))\n",
    "ansys.run('YIELD_MAT2 = TABLE_YIELD_MAT2({})'.format(T_UNI))\n",
    "ansys.load_parameters()\n",
    "yield_min = min(ansys.parameters['YIELD_MAT1'], ansys.parameters['YIELD_MAT2'])\n",
    "# sum RSVX of two Mat at 298K\n",
    "ansys.run('RSVX_MAT1 = TABLE_RSVX_MAT1({})'.format(T_UNI))\n",
    "ansys.run('RSVX_MAT2 = TABLE_RSVX_MAT2({})'.format(T_UNI))\n",
    "ansys.load_parameters()\n",
    "RSVX = sum([ansys.parameters['RSVX_MAT1'], ansys.parameters['RSVX_MAT2']]) / 2\n",
    "for i in range(len(CNTCT1_ND_l)):\n",
    "    ansys.get('NX', 'node', CNTCT1_ND_l[i], 'loc', 'x')\n",
    "    ansys.load_parameters()\n",
    "    NX = ansys.parameters['NX']\n",
    "    press = df5.loc[CNTCT1_ND_l[i], str(time)]\n",
    "    if press == 0:\n",
    "        ECR = np.nan\n",
    "        ECC = 0\n",
    "    else:\n",
    "        ECR = 3 * 50 * CNTCT1_LYR_THCKNSS * ((yield_min / press)**CNTCT1_SRFC_CNDTN) * (RSVX)\n",
    "        ECC = 1 / ECR\n",
    "    TCC = LRNTZ_NMBR * ECC * T_UNI\n",
    "    ECR_l.append(ECR)\n",
    "    ECC_l.append(ECC)\n",
    "    TCC_l.append(TCC)\n",
    "    NX_l.append(NX)\n",
    "\n",
    "table_save('ECR_X_{}'.format(time), NX_l, ECR_l)\n",
    "table_save('ECC_X_{}'.format(time), NX_l, ECC_l, True, 'ECC')\n",
    "table_save('TCC_X_{}'.format(time), NX_l, TCC_l, True, 'TCC')"
   ]
  },
  {
   "cell_type": "code",
   "execution_count": null,
   "metadata": {
    "scrolled": true
   },
   "outputs": [],
   "source": [
    "df = pd.read_csv('{}/{}/{}.csv'.format(mkpath,subfolder,'ECR_X_{}'.format(time)),header=None,sep = ',' ,engine='python',names = ['X','ECR'])\n",
    "df"
   ]
  },
  {
   "cell_type": "code",
   "execution_count": null,
   "metadata": {
    "scrolled": true
   },
   "outputs": [],
   "source": [
    "ansys.allsel('all')\n",
    "ansys.prep7()\n",
    "ansys.upgeom(-1, 3, 'last', STRUCT_FILE, 'rst')\n",
    "ansys.allsel('all')\n",
    "ansys.parsav('all', 'PRMTR_DT', 'sav')\n",
    "ansys.save()\n",
    "ansys.finish()"
   ]
  },
  {
   "cell_type": "code",
   "execution_count": null,
   "metadata": {
    "scrolled": true
   },
   "outputs": [],
   "source": [
    "df6 = pd.read_csv('{}/{}/{}.csv'.format(mkpath, subfolder, 'Press_Time'),index_col=None)\n",
    "df6.insert(0, 'X', NX_l)\n",
    "df6.set_index(['X', '0'], inplace=True)\n",
    "df6.sort_index(inplace=True)\n",
    "df6 = df6.loc[(df6 != 0).any(axis=1), :]\n",
    "df6.head()"
   ]
  },
  {
   "cell_type": "code",
   "execution_count": null,
   "metadata": {},
   "outputs": [],
   "source": [
    "import matplotlib as mpl\n",
    "\n",
    "x = [df6.index[i][0] for i in range(len(df6.index))]\n",
    "time_v = [float(time) for time in list(df6)]\n",
    "time_v_str = [str(time) for time in time_v]\n",
    "norm_time = [(time - min(time_v)) / (max(time_v) - min(time_v))\n",
    "             for time in time_v]\n",
    "ticks = time_v[0::10]\n",
    "n = len(list(df6))\n",
    "\n",
    "# fig, ax = plt.subplots(figsize=(30, 15))\n",
    "# colors = plt.cm.plasma_r(norm_time)\n",
    "# norm = mpl.colors.Normalize(vmin=min(time_v), vmax=max(time_v))\n",
    "# cmap = mpl.cm.ScalarMappable(norm=norm, cmap=plt.cm.plasma_r)\n",
    "# cmap.set_array([])\n",
    "\n",
    "# for idx, time in enumerate(list(df6)):\n",
    "#     ax.plot(x, df6.loc[:, [time]] / 1e6, color=colors[idx], lw=0.8)\n",
    "\n",
    "# ax.set_xlabel('X Koordi. in $m$', fontsize=17)\n",
    "# ax.set_ylabel('Druck in $MPa$', fontsize=17)\n",
    "# ax.set_ylim(0)\n",
    "# cbar = plt.colorbar(cmap, ticks=ticks, drawedges=True, aspect=30)\n",
    "# cbar.set_label('Zeit in  $s$', fontsize=15)\n",
    "# cbar.ax.tick_params(labelsize=15,\n",
    "#                     labelleft=True,\n",
    "#                     labelright=False,\n",
    "#                     direction='in',\n",
    "#                     length=25)\n",
    "# plt.tick_params(labelsize=17)\n",
    "# title = 'Druckverteilung mit Position bei unterischielicher Zeitpunkt und 298K (unvollständig) '\n",
    "# plt.title(title, fontsize=25)\n",
    "# plt.grid()\n",
    "# plt.show()"
   ]
  },
  {
   "cell_type": "code",
   "execution_count": null,
   "metadata": {},
   "outputs": [],
   "source": [
    "%matplotlib notebook\n",
    "from mpl_toolkits.mplot3d import Axes3D"
   ]
  },
  {
   "cell_type": "code",
   "execution_count": null,
   "metadata": {
    "scrolled": false
   },
   "outputs": [],
   "source": [
    "X, Y, Z = [], [], []\n",
    "for a in range(len(x)):\n",
    "    idx = a\n",
    "    for b in range(n):\n",
    "        idy = b\n",
    "        X.append(x[idx] * 1000)\n",
    "        Z.append(df6.iloc[idx, idy] / 1e6)\n",
    "        Y.append(time_v[idy])\n",
    "X = np.array(X).reshape(len(x), n)\n",
    "Y = np.array(Y).reshape(len(x), n)\n",
    "Z = np.array(Z).reshape(len(x), n)\n",
    "fig = plt.figure(figsize=(10, 8))\n",
    "ax = fig.add_subplot(111, projection='3d')\n",
    "surf = ax.plot_surface(X,\n",
    "                       Y,\n",
    "                       Z,\n",
    "                       cmap=plt.cm.viridis_r,\n",
    "                       alpha=0.8,\n",
    "                       antialiased=False)\n",
    "if min(time_v) == 0.1:\n",
    "    title = 'Druckverteilung mit Position bei unterischielicher Zeitpunkt und 298K (vollständig) '\n",
    "else:\n",
    "    title = 'Druckverteilung mit Position bei unterischielicher Zeitpunkt und 298K (unvollständig) '\n",
    "plt.title(title)\n",
    "ax.set_xlabel('X Koordi. in $mm$')\n",
    "ax.set_ylabel('Zeit in $s$')\n",
    "ax.set_zlabel('Druck in $MPa$')\n",
    "fig.colorbar(surf, shrink=0.5)\n",
    "plt.show()"
   ]
  },
  {
   "cell_type": "code",
   "execution_count": null,
   "metadata": {},
   "outputs": [],
   "source": [
    "SaveAndExit()"
   ]
  }
 ],
 "metadata": {
  "kernelspec": {
   "display_name": "Python 3",
   "language": "python",
   "name": "python3"
  },
  "language_info": {
   "codemirror_mode": {
    "name": "ipython",
    "version": 3
   },
   "file_extension": ".py",
   "mimetype": "text/x-python",
   "name": "python",
   "nbconvert_exporter": "python",
   "pygments_lexer": "ipython3",
   "version": "3.7.4"
  },
  "toc": {
   "base_numbering": 1,
   "nav_menu": {
    "height": "291px",
    "width": "191px"
   },
   "number_sections": true,
   "sideBar": true,
   "skip_h1_title": true,
   "title_cell": "Table of Contents",
   "title_sidebar": "Contents",
   "toc_cell": false,
   "toc_position": {
    "height": "505.128px",
    "left": "692.568px",
    "top": "155px",
    "width": "165px"
   },
   "toc_section_display": true,
   "toc_window_display": true
  }
 },
 "nbformat": 4,
 "nbformat_minor": 2
}
