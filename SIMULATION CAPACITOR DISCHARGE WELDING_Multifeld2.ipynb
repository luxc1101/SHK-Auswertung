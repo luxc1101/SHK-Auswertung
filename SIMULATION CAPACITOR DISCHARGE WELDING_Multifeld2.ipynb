{
 "cells": [
  {
   "cell_type": "markdown",
   "metadata": {},
   "source": [
    "### Solution Thermal Electric Problem\n",
    "- load term physical enviroment\n",
    "- Stepwise solving"
   ]
  },
  {
   "cell_type": "code",
   "execution_count": null,
   "metadata": {},
   "outputs": [],
   "source": [
    "# Importiere benötigte Bibliotheken\n",
    "import os\n",
    "import pyansys\n",
    "import numpy as np\n",
    "import matplotlib.pyplot as plt\n",
    "import pandas as pd\n",
    "import matplotlib as mpl\n",
    "from matplotlib.ticker import MultipleLocator\n",
    "from IPython.display import Image\n",
    "from scipy.interpolate import interp1d\n",
    "import time as zeit"
   ]
  },
  {
   "cell_type": "code",
   "execution_count": null,
   "metadata": {},
   "outputs": [],
   "source": [
    "# cwd change\n",
    "def Newdir(path):\n",
    "    import os\n",
    "    # new dir\n",
    "    try:\n",
    "        os.makedirs(path)\n",
    "    except FileExistsError:\n",
    "        print (path + '\\t directory already exists!')\n",
    "    # cwd\n",
    "    os.chdir(path)\n",
    "    print('cwd:', os.getcwd())\n",
    "\n",
    "subfolder = 'Output'"
   ]
  },
  {
   "cell_type": "code",
   "execution_count": null,
   "metadata": {},
   "outputs": [],
   "source": [
    "def SaveAndExit():\n",
    "    ansys.save()\n",
    "    ansys.Exit()"
   ]
  },
  {
   "cell_type": "code",
   "execution_count": null,
   "metadata": {
    "scrolled": true
   },
   "outputs": [],
   "source": [
    "# ansys apdl aktivieren\n",
    "filecode = 'therm_cdw_ring_al_py'           # TODO\n",
    "cwd  =  'F:/SHK/Solution/'                    # TODO\n",
    "mkpath = cwd + filecode\n",
    "Newdir(mkpath)\n",
    "# physiscs name\n",
    "PHYS_STRUCT       = 'Struct'\n",
    "PHYS_T_E          = 'T_E'\n",
    "STRUCT_FILE       = 'Structure'\n",
    "T_E_FILE          = 'Thermo_Electric'\n",
    "PRMTR_DT = 'PRMTR_DT'\n",
    "LRNTZ_NMBR        = 2.44E-8\n",
    "CNTCT1_LYR_THCKNSS= 0.00005\n",
    "CNTCT1_SRFC_CNDTN = 1\n",
    "ansys = pyansys.Mapdl(run_location = os.getcwd(),jobname = T_E_FILE, interactive_plotting = True)\n",
    "ansys.resume('{}/{}'.format(mkpath,STRUCT_FILE),'db')"
   ]
  },
  {
   "cell_type": "code",
   "execution_count": null,
   "metadata": {},
   "outputs": [],
   "source": [
    "# all of the data show\n",
    "pd.set_option('display.max_rows', None)\n",
    "pd.set_option('display.max_columns', None)"
   ]
  },
  {
   "cell_type": "code",
   "execution_count": null,
   "metadata": {
    "scrolled": true
   },
   "outputs": [],
   "source": [
    "df5 = pd.read_csv('{}/{}/{}.csv'.format(mkpath,subfolder,'Press_Time'),index_col=0)\n",
    "df5"
   ]
  },
  {
   "cell_type": "markdown",
   "metadata": {},
   "source": [
    "#### 7.1 load term physical enviroment"
   ]
  },
  {
   "cell_type": "code",
   "execution_count": null,
   "metadata": {
    "scrolled": true
   },
   "outputs": [],
   "source": [
    "ansys.assign('esav',PHYS_T_E,'esav')\n",
    "ansys.assign('emat',PHYS_T_E,'emat')\n",
    "with ansys.non_interactive:\n",
    "    ansys.run('save')\n",
    "ansys.input('{}/{}'.format(mkpath,PHYS_T_E),'ph2' )\n",
    "ansys.parres('new',PRMTR_DT,'sav')\n",
    "ansys.allsel('all')\n",
    "ansys.load_parameters()\n",
    "ansys.parameters"
   ]
  },
  {
   "cell_type": "code",
   "execution_count": null,
   "metadata": {
    "scrolled": true
   },
   "outputs": [],
   "source": [
    "ansys.input('{}/{}'.format(mkpath,PRMTR_DT),'sav')\n",
    "zeit.sleep(1)\n",
    "ansys.load_parameters()\n",
    "ansys.parameters"
   ]
  },
  {
   "cell_type": "code",
   "execution_count": null,
   "metadata": {
    "scrolled": true
   },
   "outputs": [],
   "source": [
    "def table_save(dfname,list1,list2,tread=False,t_name = None):\n",
    "    df =pd.DataFrame({0:list1,1:list2},index=None) \n",
    "    df.sort_values(0,axis = 0,ascending = True,inplace = True)\n",
    "    df.to_csv('{}/{}/{}.csv'.format(mkpath,subfolder,dfname),index=None,header=None)\n",
    "    if tread == True:\n",
    "        ansys.finish()\n",
    "        ansys.tread('CNTCT1_{}_X'.format(t_name),'{}/{}/{}'.format(mkpath,subfolder,dfname),'csv')\n",
    "        \n",
    "def list_clear():\n",
    "    ECR_l.clear()\n",
    "    TCC_l.clear()\n",
    "    ECC_l.clear()\n",
    "#     NX_l.clear()\n",
    "\n",
    "ECR_l = []\n",
    "ECC_l = []\n",
    "TCC_l = []\n",
    "NX_l = []\n",
    "DT_I  = .1E-3\n",
    "# NMBR_SS_PF =ansys.parameters['NMBR_SS_PF']\n",
    "# NMBR_SS_SP = ansys.parameters['NMBR_SS_SP']\n",
    "NMBR_SS_SWF = ansys.parameters['NMBR_SS_SWF'] \n",
    "SS_CUR=ansys.parameters['NMBR_SS_SWF']                        # Start at ignition\n",
    "LS_CUR=3\n",
    "NNUM = list(df5.index)\n",
    "time_l = list(df5)"
   ]
  },
  {
   "cell_type": "markdown",
   "metadata": {},
   "source": [
    "#### Stepwise solving"
   ]
  },
  {
   "cell_type": "code",
   "execution_count": null,
   "metadata": {
    "scrolled": true
   },
   "outputs": [],
   "source": [
    "for i in range(len(time_l)):\n",
    "    if i ==0:\n",
    "        ansys.prep7()\n",
    "        ansys.allsel('all')\n",
    "        # Update displaced structure for time at start of current flow\n",
    "        ansys.upgeom(1,LS_CUR,SS_CUR,STRUCT_FILE,'rst')\n",
    "        ansys.slashsolu()\n",
    "        ansys.r(5,'',1.0,0.1,0,)\n",
    "        ansys.rmore('','',1.0E20,0.0,1.0,)\n",
    "        ansys.rmore(0.0,99999999999,1.0,'',1.0,0.5)\n",
    "        ansys.rmore(9999999999999,1.0,1.0,0.0,'',1.0)\n",
    "        ansys.rmore('','','','',)\n",
    "        ansys.rmore('','','',913)\n",
    "        ansys.r(7,'',1.0,0.1,0,)\n",
    "        ansys.rmore('','',1.0E20,0.0,1.0,)\n",
    "        ansys.rmore(0.0,99999999999,1.0,'',1.0,0.5)\n",
    "        ansys.rmore(9999999999999,1.0,1.0,0.0,'',1.0)\n",
    "        ansys.rmore('','','','',)\n",
    "        ansys.rmore('','','',913)\n",
    "    else:\n",
    "        ansys.slashsolu()\n",
    "        ansys.antype(4,'restart',i,'CONTINUE')\n",
    "        ansys.input('{}/{}'.format(mkpath,PRMTR_DT),'sav')\n",
    "        zeit.sleep(1)\n",
    "        ansys.prep7()\n",
    "        ansys.allsel('all')\n",
    "        ansys.upgeom(-1,LS_PREV,SS_PREV,STRUCT_FILE,'rst')\n",
    "        ansys.upgeom(1,LS_CUR,SS_CUR,STRUCT_FILE,'rst')\n",
    "        ansys.post1()\n",
    "        ansys.lsel('s','','',200,202,1)\n",
    "        ansys.nsll('s',1)\n",
    "        ansys.esln('s',0)\n",
    "        ansys.nsle('r','corner')\n",
    "        time = time_l[i]\n",
    "        for j in range(len(NNUM)):\n",
    "            if i == 1:\n",
    "                ansys.get('NX', 'node', NNUM[j], 'loc', 'x')\n",
    "                ansys.load_parameters()\n",
    "                NX = ansys.parameters['NX']\n",
    "                NX_l.append(NX)\n",
    "                \n",
    "            ansys.get('CNTCT1_ND_TEMP','node',NNUM[j],'temp')\n",
    "            ansys.load_parameters()\n",
    "            NTEMP = ansys.parameters['CNTCT1_ND_TEMP'] \n",
    "            # compare yeild between two Mat at 298K\n",
    "            ansys.run('YIELD_MAT1 = TABLE_YIELD_MAT1({})'.format(NTEMP))\n",
    "            ansys.run('YIELD_MAT2 = TABLE_YIELD_MAT2({})'.format(NTEMP))\n",
    "            ansys.load_parameters()\n",
    "            yield_min = min(ansys.parameters['YIELD_MAT1'],ansys.parameters['YIELD_MAT2'])\n",
    "            # sum RSVX of two Mat at 298K\n",
    "            ansys.run('RSVX_MAT1 = TABLE_RSVX_MAT1({})'.format(NTEMP))\n",
    "            ansys.run('RSVX_MAT2 = TABLE_RSVX_MAT2({})'.format(NTEMP))\n",
    "            ansys.load_parameters()\n",
    "            RSVX = sum([ansys.parameters['RSVX_MAT1'],ansys.parameters['RSVX_MAT2']])/2       \n",
    "            press = df5.loc[NNUM[j],time]\n",
    "            if press ==0:\n",
    "                ECR = np.nan  \n",
    "                ECC =0  \n",
    "            else:\n",
    "                ECR = 3 * 50 * CNTCT1_LYR_THCKNSS * ((yield_min / press)**CNTCT1_SRFC_CNDTN) * (RSVX)\n",
    "                ECC = 1/ECR    \n",
    "            TCC = LRNTZ_NMBR*ECC*NTEMP\n",
    "            ECR_l.append(ECR)\n",
    "            ECC_l.append(ECC)\n",
    "            TCC_l.append(TCC)\n",
    "        # save as csv and write into Ansys table\n",
    "        table_save('ECR_X_{}'.format(time),NX_l,ECR_l)\n",
    "        table_save('ECC_X_{}'.format(time),NX_l,ECC_l,True,'ECC')\n",
    "        table_save('TCC_X_{}'.format(time),NX_l,TCC_l,True,'TCC')\n",
    "        # clear lists\n",
    "        list_clear()\n",
    "        ansys.allsel('all')\n",
    "    # ----------------------------------------------------------------------------------------------------------------------------------\n",
    "    # ----------------------------------------------------------------------------------------------------------------------------------\n",
    "    # write condutcivities to real constants of contact elements\n",
    "    ansys.slashsolu()\n",
    "    ansys.r(3,'',1.0,0.1,0,)\n",
    "    ansys.rmore('','',1.0E20,0.0,1.0,)\n",
    "    ansys.rmore(0.0,'%CNTCT1_TCC_X%',1.0,'',1.0,0.5)\n",
    "    ansys.rmore('%CNTCT1_ECC_X%',1.0,1.0,0.0,'',1.0)\n",
    "    ansys.rmore('','','','',)\n",
    "    ansys.rmore('','','',913)\n",
    "\n",
    "    if i > 0:\n",
    "        ansys.fk(410,'amps','%TABLE_I({})%'.format(time))\n",
    "    else:\n",
    "        ansys.fk(410,'amps',100)\n",
    "    ansys.time((i+1)*DT_I)\n",
    "\n",
    "    if i ==0:\n",
    "        SS_PREV=NMBR_SS_SWF\n",
    "        LS_PREV=3\n",
    "        SS_CUR=1\n",
    "        LS_CUR=4\n",
    "    if i ==1:\n",
    "        SS_PREV=1\n",
    "        LS_PREV=4\n",
    "        SS_CUR =2\n",
    "    if i > 1:\n",
    "        SS_PREV+=1\n",
    "        SS_CUR+=1\n",
    "\n",
    "    ansys.allsel('all')\n",
    "    ansys.autots('OFF')\n",
    "    ansys.save()\n",
    "    ansys.solve()\n",
    "    ansys.finish()\n",
    "    ansys.assign('esav')\n",
    "    ansys.assign('emat')\n",
    "    ansys.post1()\n",
    "    ansys.plnsol('temp','',0)\n",
    "    ansys.finish()\n",
    "\n",
    "    \n",
    "ansys.prep7()\n",
    "ansys.upgeom(-1,LS_PREV,SS_PREV,STRUCT_FILE,'rst')"
   ]
  },
  {
   "cell_type": "code",
   "execution_count": null,
   "metadata": {},
   "outputs": [],
   "source": [
    "SaveAndExit()"
   ]
  },
  {
   "cell_type": "markdown",
   "metadata": {},
   "source": [
    "### Plot Result"
   ]
  },
  {
   "cell_type": "code",
   "execution_count": null,
   "metadata": {
    "scrolled": true
   },
   "outputs": [],
   "source": [
    "def get_time(files, col_list):\n",
    "    for i in range(len(files)):\n",
    "        a = files[i].split('_')[2].split('.')[:2]\n",
    "        time = '{}.{}'.format(a[0],a[1])\n",
    "        col_list.append(time)\n",
    "\n",
    "files = [file for file in os.listdir('{}/{}/'.format(mkpath,subfolder)) if file.split('_')[0] == 'ECR']\n",
    "all_ECR_data = pd.DataFrame()\n",
    "columns = []\n",
    "get_time(files,columns)\n",
    "\n",
    "for file in files:\n",
    "    df = pd.read_csv('{}/{}/{}'.format(mkpath,subfolder,file), header=None)\n",
    "    all_ECR_data = pd.concat([all_ECR_data,df[1]],axis=1,)\n",
    "\n",
    "all_ECR_data.columns = columns \n",
    "all_ECR_data ['x'] = df[0]\n",
    "all_ECR_data = all_ECR_data.set_index('x')\n",
    "all_ECR_data = all_ECR_data.replace(np.nan, 0)\n",
    "\n",
    "ECR_data = all_ECR_data.loc[(all_ECR_data != 0).all(axis=1), :]\n",
    "ECR_data"
   ]
  },
  {
   "cell_type": "code",
   "execution_count": null,
   "metadata": {},
   "outputs": [],
   "source": [
    "# temp_max_l = list(temp_max[1])\n",
    "# time_temp_l = [str('%.4f' % float(time)) +'s'+ ' MT: ' + str('%.2f' % temp) +'K' for time, temp in zip(columns, temp_max_l)]"
   ]
  },
  {
   "cell_type": "code",
   "execution_count": null,
   "metadata": {},
   "outputs": [],
   "source": [
    "temp_path = os.path.join(mkpath, T_E_FILE+'.nlh') \n",
    "temp_max = pd.read_csv(temp_path,header=None,skiprows=6,skipfooter=2,sep = 2*'  ',engine='python', names=['TIME','TEMP'])\n",
    "print(temp_max.head())\n",
    "puls_name = 'I_NIMAK_0063'                     # TODO\n",
    "puls_path =  'F:/SHK/Puls/'                              # TODO\n",
    "puls = pd.read_csv(puls_path + puls_name + '.csv', header = None,sep=',',names=['TIME','PULS'])   \n",
    "print(puls.head())\n",
    "puls.TIME= puls.TIME + 2.029\n",
    "temp_max.TIME = temp_max.TIME + 2.029\n",
    "x1 = temp_max.TIME\n",
    "x2 = puls.TIME\n",
    "y1 = temp_max.TEMP\n",
    "y2 = puls.PULS/1000 # A -> KA\n",
    "\n",
    "fig, ax = plt.subplots(figsize=(14, 8))\n",
    "\n",
    "ln1 = ax.plot(x2,y2,'#440154FF', label = 'Schweißstrom',lw = 3)\n",
    "ax.set_ylabel('$I$ / KA', fontsize=17)\n",
    "ax.set_xlabel('$t$ / s', fontsize=17)\n",
    "ax.set_xlim(min(puls.TIME),max(puls.TIME))\n",
    "ax.set_ylim(0)\n",
    "ax2 = ax.twinx()\n",
    "ln2 = ax2.plot(x1,y1,'#238A8DFF',label = 'Maximaltemperatur',lw=3)\n",
    "ax2.set_ylabel('$T$$_{max}$ / K', fontsize=17)\n",
    "ax2.set_ylim(298)\n",
    "ax.grid()\n",
    "ax.tick_params(labelsize=17)\n",
    "ax2.tick_params(labelsize=17)\n",
    "lns = ln1 + ln2\n",
    "labs = [l.get_label() for l in lns]\n",
    "ax.legend(lns,labs,loc = 0,fontsize=17)\n",
    "title = 'Zeitlicher Verlauf der Maximaltemperatur (Ringbuckel 30°)'\n",
    "plt.title(title,fontsize=20)\n",
    "plt.show()"
   ]
  },
  {
   "cell_type": "code",
   "execution_count": null,
   "metadata": {},
   "outputs": [],
   "source": [
    "%matplotlib notebook\n",
    "import matplotlib as mpl\n",
    "from mpl_toolkits.mplot3d import Axes3D"
   ]
  },
  {
   "cell_type": "code",
   "execution_count": null,
   "metadata": {},
   "outputs": [],
   "source": [
    "x = ECR_data.index.to_list()\n",
    "time_v = [float(time) for time in list(ECR_data)]\n",
    "time_v_str = [str(time) for time in time_v]\n",
    "n = len(list(ECR_data))"
   ]
  },
  {
   "cell_type": "code",
   "execution_count": null,
   "metadata": {
    "scrolled": false
   },
   "outputs": [],
   "source": [
    "X, Y, Z = [], [], []\n",
    "for a in range(len(x)):\n",
    "    idx = a\n",
    "    for b in range(n):\n",
    "        idy = b\n",
    "        X.append(x[idx] * 1000)\n",
    "        Z.append(ECR_data.iloc[idx, idy] )\n",
    "        Y.append(time_v[idy])\n",
    "X = np.array(X).reshape(len(x), n)\n",
    "Y = np.array(Y).reshape(len(x), n)\n",
    "Z = np.array( np.log10(Z)).reshape(len(x), n)\n",
    "\n",
    "fig = plt.figure(figsize=(12, 8))\n",
    "ax = fig.add_subplot(111, projection='3d')\n",
    "surf = ax.plot_surface(X,\n",
    "                       Y,\n",
    "                       Z,\n",
    "                       cmap=plt.cm.viridis_r, \n",
    "                       alpha=0.8,\n",
    "                       antialiased=False)\n",
    "title = 'ECR mit Position bei unterischielicher Zeitpunkt  (unvollständig) '\n",
    "ax.set_xlabel('X Koordi. in $mm$')\n",
    "ax.set_ylabel('Zeit in $s$')\n",
    "ax.set_zlabel('log (ECR) in $\\u03A9.m^2$')\n",
    "plt.title(title)\n",
    "fig.colorbar(surf, shrink=0.5)\n",
    "plt.show()"
   ]
  },
  {
   "cell_type": "code",
   "execution_count": null,
   "metadata": {},
   "outputs": [],
   "source": [
    "import cv2\n",
    "import cmapy\n",
    "from PIL import Image"
   ]
  },
  {
   "cell_type": "code",
   "execution_count": null,
   "metadata": {},
   "outputs": [],
   "source": [
    "filecode = 'therm_cdw_ring_al_py'           # TODO\n",
    "cwd  =  'F:/SHK/Solution/'                    # TODO\n",
    "mkpath = cwd + filecode\n",
    "files = [file for file in [file for file in os.listdir('{}/'.format(mkpath)) if file.endswith('.png')] if file.split('_')[0] == 'Thermo']\n",
    "fps = 10\n",
    "size = (1077,810)\n",
    "file_path = '{}/Thermo_Electric.mp4'.format(mkpath)\n",
    "fourcc = cv2.VideoWriter_fourcc('H', '2', '6', '4')\n",
    "video = cv2.VideoWriter( file_path, fourcc, fps,size )\n",
    "for item in files:\n",
    "    item = mkpath + '/' + item\n",
    "    img = cv2.imread(item)\n",
    "    img_colorized = cmapy.colorize(img, 'hot')\n",
    "    video.write(img_colorized)\n",
    "video.release()"
   ]
  },
  {
   "cell_type": "code",
   "execution_count": null,
   "metadata": {},
   "outputs": [],
   "source": []
  }
 ],
 "metadata": {
  "kernelspec": {
   "display_name": "Python 3",
   "language": "python",
   "name": "python3"
  },
  "language_info": {
   "codemirror_mode": {
    "name": "ipython",
    "version": 3
   },
   "file_extension": ".py",
   "mimetype": "text/x-python",
   "name": "python",
   "nbconvert_exporter": "python",
   "pygments_lexer": "ipython3",
   "version": "3.7.4"
  },
  "toc": {
   "base_numbering": 1,
   "nav_menu": {},
   "number_sections": true,
   "sideBar": true,
   "skip_h1_title": false,
   "title_cell": "Table of Contents",
   "title_sidebar": "Contents",
   "toc_cell": false,
   "toc_position": {},
   "toc_section_display": true,
   "toc_window_display": true
  }
 },
 "nbformat": 4,
 "nbformat_minor": 2
}
